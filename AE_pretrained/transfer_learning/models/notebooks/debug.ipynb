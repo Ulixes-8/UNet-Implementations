{
 "cells": [
  {
   "cell_type": "code",
   "execution_count": 4,
   "metadata": {},
   "outputs": [
    {
     "name": "stdout",
     "output_type": "stream",
     "text": [
      "Checkpoint keys: dict_keys(['epoch', 'model_state_dict', 'optimizer_state_dict', 'scheduler_state_dict', 'best_loss', 'config'])\n"
     ]
    }
   ],
   "source": [
    "import torch\n",
    "\n",
    "# Path to your pretrained autoencoder checkpoint\n",
    "checkpoint_path = \"/home/ulixes/segmentation_cv/unet/AE-pretrained/models/ae_pet_reconstruction/best_model.pth\"\n",
    "\n",
    "# Load the checkpoint to inspect its keys\n",
    "checkpoint = torch.load(checkpoint_path, map_location=\"cpu\")\n",
    "print(\"Checkpoint keys:\", checkpoint.keys())\n",
    "\n"
   ]
  },
  {
   "cell_type": "code",
   "execution_count": 1,
   "metadata": {},
   "outputs": [
    {
     "name": "stdout",
     "output_type": "stream",
     "text": [
      "Model's children:\n",
      "  encoder_stages: ModuleList\n",
      "  decoder_stages: ModuleList\n",
      "  segmentation_output: Conv2d\n"
     ]
    }
   ],
   "source": [
    "from unet import UNet\n",
    "import torch.nn as nn\n",
    "model = UNet(\n",
    "    in_channels=3,\n",
    "    num_classes=3,\n",
    "    n_stages=6,\n",
    "    features_per_stage=[32, 64, 128, 256, 512, 512],\n",
    "    kernel_sizes=[[3, 3]] * 6,\n",
    "    strides=[[1, 1], [2, 2], [2, 2], [2, 2], [2, 2], [2, 2]],\n",
    "    n_conv_per_stage=[2] * 6,\n",
    "    n_conv_per_stage_decoder=[2] * 5,\n",
    "    conv_bias=True,\n",
    "    norm_op=nn.InstanceNorm2d,\n",
    "    norm_op_kwargs={\"eps\": 1e-5, \"affine\": True},\n",
    "    dropout_op=None,\n",
    "    nonlin=nn.LeakyReLU,\n",
    "    nonlin_kwargs={\"inplace\": True},\n",
    "    encoder_dropout_rates=[0.0, 0.0, 0.1, 0.2, 0.3, 0.3],\n",
    "    decoder_dropout_rates=[0.3, 0.2, 0.2, 0.1, 0.0],\n",
    "    pretrained_encoder_path=\"\"\n",
    ")\n",
    "print(\"Model's children:\")\n",
    "for name, child in model.named_children():\n",
    "    print(f\"  {name}: {child.__class__.__name__}\")\n"
   ]
  },
  {
   "cell_type": "code",
   "execution_count": 2,
   "metadata": {},
   "outputs": [
    {
     "name": "stdout",
     "output_type": "stream",
     "text": [
      "Top-level checkpoint keys:\n",
      "  epoch\n",
      "  model_state_dict\n",
      "  optimizer_state_dict\n",
      "  scheduler_state_dict\n",
      "  best_loss\n",
      "  config\n",
      "\n",
      "Keys in model_state_dict:\n",
      "  encoder_stages.0.block.0.weight\n",
      "  encoder_stages.0.block.0.bias\n",
      "  encoder_stages.0.block.1.weight\n",
      "  encoder_stages.0.block.1.bias\n",
      "  encoder_stages.0.block.3.weight\n",
      "  encoder_stages.0.block.3.bias\n",
      "  encoder_stages.0.block.4.weight\n",
      "  encoder_stages.0.block.4.bias\n",
      "  encoder_stages.1.block.0.weight\n",
      "  encoder_stages.1.block.0.bias\n",
      "  encoder_stages.1.block.1.weight\n",
      "  encoder_stages.1.block.1.bias\n",
      "  encoder_stages.1.block.3.weight\n",
      "  encoder_stages.1.block.3.bias\n",
      "  encoder_stages.1.block.4.weight\n",
      "  encoder_stages.1.block.4.bias\n",
      "  encoder_stages.2.block.0.weight\n",
      "  encoder_stages.2.block.0.bias\n",
      "  encoder_stages.2.block.1.weight\n",
      "  encoder_stages.2.block.1.bias\n",
      "  encoder_stages.2.block.4.weight\n",
      "  encoder_stages.2.block.4.bias\n",
      "  encoder_stages.2.block.5.weight\n",
      "  encoder_stages.2.block.5.bias\n",
      "  encoder_stages.3.block.0.weight\n",
      "  encoder_stages.3.block.0.bias\n",
      "  encoder_stages.3.block.1.weight\n",
      "  encoder_stages.3.block.1.bias\n",
      "  encoder_stages.3.block.4.weight\n",
      "  encoder_stages.3.block.4.bias\n",
      "  encoder_stages.3.block.5.weight\n",
      "  encoder_stages.3.block.5.bias\n",
      "  encoder_stages.4.block.0.weight\n",
      "  encoder_stages.4.block.0.bias\n",
      "  encoder_stages.4.block.1.weight\n",
      "  encoder_stages.4.block.1.bias\n",
      "  encoder_stages.4.block.4.weight\n",
      "  encoder_stages.4.block.4.bias\n",
      "  encoder_stages.4.block.5.weight\n",
      "  encoder_stages.4.block.5.bias\n",
      "  encoder_stages.5.block.0.weight\n",
      "  encoder_stages.5.block.0.bias\n",
      "  encoder_stages.5.block.1.weight\n",
      "  encoder_stages.5.block.1.bias\n",
      "  encoder_stages.5.block.4.weight\n",
      "  encoder_stages.5.block.4.bias\n",
      "  encoder_stages.5.block.5.weight\n",
      "  encoder_stages.5.block.5.bias\n",
      "  decoder_stages.0.conv_block.block.0.weight\n",
      "  decoder_stages.0.conv_block.block.0.bias\n",
      "  decoder_stages.0.conv_block.block.1.weight\n",
      "  decoder_stages.0.conv_block.block.1.bias\n",
      "  decoder_stages.0.conv_block.block.4.weight\n",
      "  decoder_stages.0.conv_block.block.4.bias\n",
      "  decoder_stages.0.conv_block.block.5.weight\n",
      "  decoder_stages.0.conv_block.block.5.bias\n",
      "  decoder_stages.1.conv_block.block.0.weight\n",
      "  decoder_stages.1.conv_block.block.0.bias\n",
      "  decoder_stages.1.conv_block.block.1.weight\n",
      "  decoder_stages.1.conv_block.block.1.bias\n",
      "  decoder_stages.1.conv_block.block.4.weight\n",
      "  decoder_stages.1.conv_block.block.4.bias\n",
      "  decoder_stages.1.conv_block.block.5.weight\n",
      "  decoder_stages.1.conv_block.block.5.bias\n",
      "  decoder_stages.2.conv_block.block.0.weight\n",
      "  decoder_stages.2.conv_block.block.0.bias\n",
      "  decoder_stages.2.conv_block.block.1.weight\n",
      "  decoder_stages.2.conv_block.block.1.bias\n",
      "  decoder_stages.2.conv_block.block.4.weight\n",
      "  decoder_stages.2.conv_block.block.4.bias\n",
      "  decoder_stages.2.conv_block.block.5.weight\n",
      "  decoder_stages.2.conv_block.block.5.bias\n",
      "  decoder_stages.3.conv_block.block.0.weight\n",
      "  decoder_stages.3.conv_block.block.0.bias\n",
      "  decoder_stages.3.conv_block.block.1.weight\n",
      "  decoder_stages.3.conv_block.block.1.bias\n",
      "  decoder_stages.3.conv_block.block.4.weight\n",
      "  decoder_stages.3.conv_block.block.4.bias\n",
      "  decoder_stages.3.conv_block.block.5.weight\n",
      "  decoder_stages.3.conv_block.block.5.bias\n",
      "  decoder_stages.4.conv_block.block.0.weight\n",
      "  decoder_stages.4.conv_block.block.0.bias\n",
      "  decoder_stages.4.conv_block.block.1.weight\n",
      "  decoder_stages.4.conv_block.block.1.bias\n",
      "  decoder_stages.4.conv_block.block.3.weight\n",
      "  decoder_stages.4.conv_block.block.3.bias\n",
      "  decoder_stages.4.conv_block.block.4.weight\n",
      "  decoder_stages.4.conv_block.block.4.bias\n",
      "  reconstruction_output.0.weight\n",
      "  reconstruction_output.0.bias\n"
     ]
    }
   ],
   "source": [
    "import torch\n",
    "\n",
    "checkpoint_path = \"/home/ulixes/segmentation_cv/unet/AE-pretrained/models/ae_pet_reconstruction/best_model.pth\"\n",
    "checkpoint = torch.load(checkpoint_path, map_location=\"cpu\")\n",
    "\n",
    "print(\"Top-level checkpoint keys:\")\n",
    "for key in checkpoint.keys():\n",
    "    print(\" \", key)\n",
    "\n",
    "# If the checkpoint contains a 'model_state_dict', print its keys too:\n",
    "if \"model_state_dict\" in checkpoint:\n",
    "    print(\"\\nKeys in model_state_dict:\")\n",
    "    for key in checkpoint[\"model_state_dict\"].keys():\n",
    "        print(\" \", key)\n"
   ]
  },
  {
   "cell_type": "code",
   "execution_count": 3,
   "metadata": {},
   "outputs": [
    {
     "name": "stdout",
     "output_type": "stream",
     "text": [
      "Top-level checkpoint keys: ['epoch', 'model_state_dict', 'optimizer_state_dict', 'scheduler_state_dict', 'best_loss', 'config']\n",
      "Encoder keys from model_state_dict:\n",
      "  encoder_stages.0.block.0.weight\n",
      "  encoder_stages.0.block.0.bias\n",
      "  encoder_stages.0.block.1.weight\n",
      "  encoder_stages.0.block.1.bias\n",
      "  encoder_stages.0.block.3.weight\n",
      "  encoder_stages.0.block.3.bias\n",
      "  encoder_stages.0.block.4.weight\n",
      "  encoder_stages.0.block.4.bias\n",
      "  encoder_stages.1.block.0.weight\n",
      "  encoder_stages.1.block.0.bias\n",
      "  encoder_stages.1.block.1.weight\n",
      "  encoder_stages.1.block.1.bias\n",
      "  encoder_stages.1.block.3.weight\n",
      "  encoder_stages.1.block.3.bias\n",
      "  encoder_stages.1.block.4.weight\n",
      "  encoder_stages.1.block.4.bias\n",
      "  encoder_stages.2.block.0.weight\n",
      "  encoder_stages.2.block.0.bias\n",
      "  encoder_stages.2.block.1.weight\n",
      "  encoder_stages.2.block.1.bias\n",
      "  encoder_stages.2.block.4.weight\n",
      "  encoder_stages.2.block.4.bias\n",
      "  encoder_stages.2.block.5.weight\n",
      "  encoder_stages.2.block.5.bias\n",
      "  encoder_stages.3.block.0.weight\n",
      "  encoder_stages.3.block.0.bias\n",
      "  encoder_stages.3.block.1.weight\n",
      "  encoder_stages.3.block.1.bias\n",
      "  encoder_stages.3.block.4.weight\n",
      "  encoder_stages.3.block.4.bias\n",
      "  encoder_stages.3.block.5.weight\n",
      "  encoder_stages.3.block.5.bias\n",
      "  encoder_stages.4.block.0.weight\n",
      "  encoder_stages.4.block.0.bias\n",
      "  encoder_stages.4.block.1.weight\n",
      "  encoder_stages.4.block.1.bias\n",
      "  encoder_stages.4.block.4.weight\n",
      "  encoder_stages.4.block.4.bias\n",
      "  encoder_stages.4.block.5.weight\n",
      "  encoder_stages.4.block.5.bias\n",
      "  encoder_stages.5.block.0.weight\n",
      "  encoder_stages.5.block.0.bias\n",
      "  encoder_stages.5.block.1.weight\n",
      "  encoder_stages.5.block.1.bias\n",
      "  encoder_stages.5.block.4.weight\n",
      "  encoder_stages.5.block.4.bias\n",
      "  encoder_stages.5.block.5.weight\n",
      "  encoder_stages.5.block.5.bias\n"
     ]
    }
   ],
   "source": [
    "import torch\n",
    "\n",
    "checkpoint_path = \"/home/ulixes/segmentation_cv/unet/AE-pretrained/models/ae_pet_reconstruction/best_model.pth\"\n",
    "checkpoint = torch.load(checkpoint_path, map_location=\"cpu\")\n",
    "print(\"Top-level checkpoint keys:\", list(checkpoint.keys()))\n",
    "print(\"Encoder keys from model_state_dict:\")\n",
    "encoder_keys = [k for k in checkpoint[\"model_state_dict\"].keys() if k.startswith(\"encoder_stages.\")]\n",
    "for key in encoder_keys:\n",
    "    print(\" \", key)\n"
   ]
  },
  {
   "cell_type": "code",
   "execution_count": 6,
   "metadata": {},
   "outputs": [
    {
     "name": "stdout",
     "output_type": "stream",
     "text": [
      "Successfully loaded pre-trained encoder from /home/ulixes/segmentation_cv/unet/AE-pretrained/models/ae_pet_reconstruction/best_model.pth\n",
      "Encoder stages have been frozen.\n"
     ]
    }
   ],
   "source": [
    "from unet import UNet\n",
    "import torch.nn as nn\n",
    "\n",
    "model = UNet(\n",
    "    in_channels=3,\n",
    "    num_classes=3,\n",
    "    n_stages=6,\n",
    "    features_per_stage=[32, 64, 128, 256, 512, 512],\n",
    "    kernel_sizes=[[3, 3]] * 6,\n",
    "    strides=[[1, 1], [2, 2], [2, 2], [2, 2], [2, 2], [2, 2]],\n",
    "    n_conv_per_stage=[2] * 6,\n",
    "    n_conv_per_stage_decoder=[2] * 5,\n",
    "    conv_bias=True,\n",
    "    norm_op=nn.InstanceNorm2d,\n",
    "    norm_op_kwargs={\"eps\": 1e-5, \"affine\": True},\n",
    "    dropout_op=None,\n",
    "    nonlin=nn.LeakyReLU,\n",
    "    nonlin_kwargs={\"inplace\": True},\n",
    "    encoder_dropout_rates=[0.0, 0.0, 0.1, 0.2, 0.3, 0.3],\n",
    "    decoder_dropout_rates=[0.3, 0.2, 0.2, 0.1, 0.0],\n",
    "    pretrained_encoder_path=\"\"  # We'll load manually below\n",
    ")\n",
    "\n",
    "# Attempt to load the pretrained encoder\n",
    "model.load_pretrained_encoder(checkpoint_path)\n"
   ]
  },
  {
   "cell_type": "code",
   "execution_count": 7,
   "metadata": {},
   "outputs": [
    {
     "name": "stdout",
     "output_type": "stream",
     "text": [
      "Are all encoder parameters frozen? True\n"
     ]
    }
   ],
   "source": [
    "encoder_params = list(model.encoder_stages.parameters())\n",
    "frozen = all(not p.requires_grad for p in encoder_params)\n",
    "print(\"Are all encoder parameters frozen?\", frozen)\n"
   ]
  },
  {
   "cell_type": "code",
   "execution_count": 8,
   "metadata": {},
   "outputs": [
    {
     "name": "stdout",
     "output_type": "stream",
     "text": [
      "Output shape: torch.Size([1, 3, 512, 512])\n"
     ]
    }
   ],
   "source": [
    "import torch\n",
    "dummy_input = torch.randn(1, 3, 512, 512)  # Example input\n",
    "output = model(dummy_input)\n",
    "print(\"Output shape:\", output.shape)\n"
   ]
  }
 ],
 "metadata": {
  "kernelspec": {
   "display_name": "venv",
   "language": "python",
   "name": "python3"
  },
  "language_info": {
   "codemirror_mode": {
    "name": "ipython",
    "version": 3
   },
   "file_extension": ".py",
   "mimetype": "text/x-python",
   "name": "python",
   "nbconvert_exporter": "python",
   "pygments_lexer": "ipython3",
   "version": "3.12.3"
  }
 },
 "nbformat": 4,
 "nbformat_minor": 2
}
